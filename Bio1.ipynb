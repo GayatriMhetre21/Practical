{
 "cells": [
  {
   "cell_type": "code",
   "execution_count": null,
   "id": "73a2ef0c-6aa3-47d0-933e-6a64327cdd4a",
   "metadata": {},
   "outputs": [],
   "source": [
    " import re\n",
    "sequence = \"\"\n",
    "with open(\"sequence.fasta\") as f:\n",
    " lines = f.readlines()\n",
    " sequence = ''.join(line.strip() for line in lines[1:]).upper()\n",
    "g_count = sequence.count('G')\n",
    "c_count = sequence.count('C')\n",
    "total_count = len(sequence)\n",
    "gc_percent = ((g_count + c_count) / total_count) * 100\n",
    "print(f\"G Count: {g_count}\")\n",
    "print(f\"C Count: {c_count}\")\n",
    "print(f\"Total Count: {total_count}\")\n",
    "print(f\"GC Percent: {gc_percent:.2f}%\")\n",
    "a_count = sequence.count('A')\n",
    "t_count = sequence.count('T')\n",
    "at_percent = ((a_count + t_count) / total_count) * 100\n",
    "print(f\"A Count: {a_count}\")\n",
    "print(f\"T Count: {t_count}\")\n",
    "print(f\"AT Percent: {at_percent:.2f}%\")\n",
    "ratio = (a_count + t_count) / (g_count + c_count)\n",
    "print(f\"AT/GC Ratio: {ratio:.2f}\")\n",
    "start_codon = 'ATG'\n",
    "stop_codons = ['TAA', 'TAG', 'TGA']\n",
    "coding_regions = []\n",
    "start_index = sequence.find(start_codon)\n",
    "print(start_index)\n",
    "while start_index != -1:\n",
    " for stop_codon in stop_codons:\n",
    " stop_index = sequence.find(stop_codon, start_index + 3)\n",
    " if stop_index != -1 and (stop_index - start_index) % 3 == 0:\n",
    " coding_region = sequence[start_index:stop_index + 3]\n",
    " coding_regions.append(coding_region)\n",
    " break\n",
    " start_index = sequence.find(start_codon, start_index + 1)\n",
    "if coding_regions:\n",
    " print(\"Coding Regions Found\")\n",
    " for i, coding_region in enumerate(coding_regions, start=1):\n",
    " print(f\"\\nRegion {i}: {coding_region}\\nLength: {len(coding_region)}\")\n",
    "else:\n",
    " print(\"No coding regions found\")\n",
    "def find_motifs(sequence, motif):\n",
    " print(f\"\\nSearching for motif: {motif}\")\n",
    " matches = [match.start() for match in re.finditer(motif, sequence)]\n",
    " if matches:\n",
    " print(f\"Motif '{motif}' found at positions: {matches}\")\n",
    " else:\n",
    " print(f\"Motif '{motif}' not found\")\n",
    "    motif = \"TATAA\"\n",
    "find_motifs(sequence, motif)"
   ]
  },
  {
   "cell_type": "code",
   "execution_count": null,
   "id": "48c95b5a-0010-42c3-ae10-a30519e474ea",
   "metadata": {},
   "outputs": [],
   "source": []
  }
 ],
 "metadata": {
  "kernelspec": {
   "display_name": "Python 3 (ipykernel)",
   "language": "python",
   "name": "python3"
  },
  "language_info": {
   "codemirror_mode": {
    "name": "ipython",
    "version": 3
   },
   "file_extension": ".py",
   "mimetype": "text/x-python",
   "name": "python",
   "nbconvert_exporter": "python",
   "pygments_lexer": "ipython3",
   "version": "3.12.6"
  }
 },
 "nbformat": 4,
 "nbformat_minor": 5
}
